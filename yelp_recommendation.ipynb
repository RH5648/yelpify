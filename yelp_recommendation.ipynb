{
 "cells": [
  {
   "cell_type": "code",
   "execution_count": null,
   "metadata": {
    "collapsed": true,
    "id": "0sT5TScreZYi"
   },
   "outputs": [],
   "source": [
    "import os\n",
    "import numpy as np\n",
    "import matplotlib.pyplot as plt\n",
    "import pandas as pd"
   ]
  },
  {
   "cell_type": "code",
   "execution_count": null,
   "metadata": {
    "colab": {
     "base_uri": "https://localhost:8080/"
    },
    "id": "Uk1JzGoao8VX",
    "outputId": "df82f4ba-d9c1-4c48-daba-6f18bf083cac"
   },
   "outputs": [
    {
     "name": "stderr",
     "output_type": "stream",
     "text": [
      "/usr/local/lib/python3.6/dist-packages/IPython/core/interactiveshell.py:2718: DtypeWarning: Columns (0) have mixed types.Specify dtype option on import or set low_memory=False.\n",
      "  interactivity=interactivity, compiler=compiler, result=result)\n"
     ]
    }
   ],
   "source": [
    "df = pd.read_csv(\"reviewsample2.csv\")[['user_id','business_id','stars']][:100000]"
   ]
  },
  {
   "cell_type": "code",
   "execution_count": null,
   "metadata": {
    "colab": {
     "base_uri": "https://localhost:8080/"
    },
    "id": "OM3JKSb8pgtn",
    "outputId": "36d8a409-93ea-4608-f1e8-13aca5dbca91"
   },
   "outputs": [
    {
     "name": "stdout",
     "output_type": "stream",
     "text": [
      "100000\n",
      "54163\n",
      "5908\n"
     ]
    }
   ],
   "source": [
    "print(len(df))\n",
    "n_users = df.user_id.unique().shape[0]\n",
    "n_items = df.business_id.unique().shape[0]\n",
    "print(n_users)\n",
    "print(n_items)"
   ]
  },
  {
   "cell_type": "code",
   "execution_count": null,
   "metadata": {
    "colab": {
     "base_uri": "https://localhost:8080/",
     "height": 195
    },
    "id": "2ISM1157p_iw",
    "outputId": "d3d88d4f-deb9-4606-c567-4a2ee8e37657"
   },
   "outputs": [
    {
     "data": {
      "text/html": [
       "<div>\n",
       "<style scoped>\n",
       "    .dataframe tbody tr th:only-of-type {\n",
       "        vertical-align: middle;\n",
       "    }\n",
       "\n",
       "    .dataframe tbody tr th {\n",
       "        vertical-align: top;\n",
       "    }\n",
       "\n",
       "    .dataframe thead th {\n",
       "        text-align: right;\n",
       "    }\n",
       "</style>\n",
       "<table border=\"1\" class=\"dataframe\">\n",
       "  <thead>\n",
       "    <tr style=\"text-align: right;\">\n",
       "      <th></th>\n",
       "      <th>user_id</th>\n",
       "      <th>business_id</th>\n",
       "      <th>stars</th>\n",
       "    </tr>\n",
       "  </thead>\n",
       "  <tbody>\n",
       "    <tr>\n",
       "      <th>0</th>\n",
       "      <td>V34qejxNsCbcgD8C0HVk-Q</td>\n",
       "      <td>HQl28KMwrEKHqhFrrDqVNQ</td>\n",
       "      <td>5.0</td>\n",
       "    </tr>\n",
       "    <tr>\n",
       "      <th>1</th>\n",
       "      <td>UgMW8bLE0QMJDCkQ1Ax5Mg</td>\n",
       "      <td>IS4cv902ykd8wj1TR0N3-A</td>\n",
       "      <td>4.0</td>\n",
       "    </tr>\n",
       "    <tr>\n",
       "      <th>2</th>\n",
       "      <td>aq_ZxGHiri48TUXJlpRkCQ</td>\n",
       "      <td>Pthe4qk5xh4n-ef-9bvMSg</td>\n",
       "      <td>5.0</td>\n",
       "    </tr>\n",
       "    <tr>\n",
       "      <th>3</th>\n",
       "      <td>jOERvhmK6_lo_XGUBPws_w</td>\n",
       "      <td>Ws8V970-mQt2X9CwCuT5zw</td>\n",
       "      <td>4.0</td>\n",
       "    </tr>\n",
       "    <tr>\n",
       "      <th>4</th>\n",
       "      <td>HJECayULRM-6xh2GCCvLiA</td>\n",
       "      <td>l-nL4BmhzpZjcavooO48PQ</td>\n",
       "      <td>4.0</td>\n",
       "    </tr>\n",
       "  </tbody>\n",
       "</table>\n",
       "</div>"
      ],
      "text/plain": [
       "                  user_id             business_id  stars\n",
       "0  V34qejxNsCbcgD8C0HVk-Q  HQl28KMwrEKHqhFrrDqVNQ    5.0\n",
       "1  UgMW8bLE0QMJDCkQ1Ax5Mg  IS4cv902ykd8wj1TR0N3-A    4.0\n",
       "2  aq_ZxGHiri48TUXJlpRkCQ  Pthe4qk5xh4n-ef-9bvMSg    5.0\n",
       "3  jOERvhmK6_lo_XGUBPws_w  Ws8V970-mQt2X9CwCuT5zw    4.0\n",
       "4  HJECayULRM-6xh2GCCvLiA  l-nL4BmhzpZjcavooO48PQ    4.0"
      ]
     },
     "execution_count": 57,
     "metadata": {
      "tags": []
     },
     "output_type": "execute_result"
    }
   ],
   "source": [
    "df.head()"
   ]
  },
  {
   "cell_type": "code",
   "execution_count": null,
   "metadata": {
    "collapsed": true,
    "id": "M97TOOdge3cB"
   },
   "outputs": [],
   "source": [
    "n = 54163\n",
    "m = 5908"
   ]
  },
  {
   "cell_type": "code",
   "execution_count": null,
   "metadata": {
    "collapsed": true,
    "id": "O3XJlhLYfc1p"
   },
   "outputs": [],
   "source": [
    "#mean square error\n",
    "def mse(n,m,U,V,S_mat, S_dict, average = False):\n",
    "    loss = 0\n",
    "    num_elements = S_mat.nnz\n",
    "    if not average:\n",
    "        for (k,v) in S_dict.items():\n",
    "            loss += (U[k[0],:].dot(V[k[1],:]) - v)**2\n",
    "    else:\n",
    "        for (k,v) in S_dict.items():\n",
    "            loss += (U[k[0]]*V[k[1]] - v)**2      \n",
    "    return (loss/num_elements)\n",
    "    "
   ]
  },
  {
   "cell_type": "code",
   "execution_count": null,
   "metadata": {
    "collapsed": true,
    "id": "CoCCSF4xijEH"
   },
   "outputs": [],
   "source": [
    "from scipy import sparse\n",
    "from scipy.stats import uniform"
   ]
  },
  {
   "cell_type": "code",
   "execution_count": null,
   "metadata": {
    "colab": {
     "base_uri": "https://localhost:8080/",
     "height": 106
    },
    "id": "HpVoTawDq_D2",
    "outputId": "e8e9eac6-bff9-435c-de7c-028ec74d34ac"
   },
   "outputs": [
    {
     "data": {
      "text/html": [
       "<div>\n",
       "<style scoped>\n",
       "    .dataframe tbody tr th:only-of-type {\n",
       "        vertical-align: middle;\n",
       "    }\n",
       "\n",
       "    .dataframe tbody tr th {\n",
       "        vertical-align: top;\n",
       "    }\n",
       "\n",
       "    .dataframe thead th {\n",
       "        text-align: right;\n",
       "    }\n",
       "</style>\n",
       "<table border=\"1\" class=\"dataframe\">\n",
       "  <thead>\n",
       "    <tr style=\"text-align: right;\">\n",
       "      <th></th>\n",
       "      <th>user_id</th>\n",
       "      <th>business_id</th>\n",
       "      <th>stars</th>\n",
       "    </tr>\n",
       "  </thead>\n",
       "  <tbody>\n",
       "    <tr>\n",
       "      <th>0</th>\n",
       "      <td>V34qejxNsCbcgD8C0HVk-Q</td>\n",
       "      <td>HQl28KMwrEKHqhFrrDqVNQ</td>\n",
       "      <td>5.0</td>\n",
       "    </tr>\n",
       "    <tr>\n",
       "      <th>1</th>\n",
       "      <td>UgMW8bLE0QMJDCkQ1Ax5Mg</td>\n",
       "      <td>IS4cv902ykd8wj1TR0N3-A</td>\n",
       "      <td>4.0</td>\n",
       "    </tr>\n",
       "  </tbody>\n",
       "</table>\n",
       "</div>"
      ],
      "text/plain": [
       "                  user_id             business_id  stars\n",
       "0  V34qejxNsCbcgD8C0HVk-Q  HQl28KMwrEKHqhFrrDqVNQ    5.0\n",
       "1  UgMW8bLE0QMJDCkQ1Ax5Mg  IS4cv902ykd8wj1TR0N3-A    4.0"
      ]
     },
     "execution_count": 64,
     "metadata": {
      "tags": []
     },
     "output_type": "execute_result"
    }
   ],
   "source": [
    "df.head(2)"
   ]
  },
  {
   "cell_type": "code",
   "execution_count": null,
   "metadata": {
    "collapsed": true,
    "id": "w_Ts0Z3rqrsW"
   },
   "outputs": [],
   "source": [
    "# prepare a mapping from id string to integer\n",
    "user_map = {}\n",
    "biz_map = {}\n",
    "user_idx = 0\n",
    "biz_idx = 0\n",
    "for idx, row in df.iterrows():\n",
    "    if row['user_id'] not in user_map:\n",
    "        user_map[row['user_id']] = user_idx\n",
    "        user_idx += 1\n",
    "    if row['business_id'] not in biz_map:\n",
    "        biz_map[row['business_id']] = biz_idx\n",
    "        biz_idx += 1"
   ]
  },
  {
   "cell_type": "code",
   "execution_count": null,
   "metadata": {
    "collapsed": true,
    "id": "RV05tc4frZ7v"
   },
   "outputs": [],
   "source": [
    "inv_user_map = {v: k for k, v in user_map.items()}\n",
    "inv_biz_map = {v: k for k, v in biz_map.items()}"
   ]
  },
  {
   "cell_type": "code",
   "execution_count": null,
   "metadata": {
    "collapsed": true,
    "id": "kuaTonZmrxoX"
   },
   "outputs": [],
   "source": [
    "i_index = []\n",
    "j_index = []\n",
    "s_rating = []\n",
    "for idx, row in df.iterrows():\n",
    "    i_index.append(user_map[row['user_id']])\n",
    "    j_index.append(biz_map[row['business_id']])\n",
    "    s_rating.append(float(row['stars']))"
   ]
  },
  {
   "cell_type": "code",
   "execution_count": null,
   "metadata": {
    "collapsed": true,
    "id": "Pd2WNdWrsRuf"
   },
   "outputs": [],
   "source": [
    "S_mat = sparse.coo_matrix((s_rating, (i_index, j_index)))"
   ]
  },
  {
   "cell_type": "code",
   "execution_count": null,
   "metadata": {
    "collapsed": true,
    "id": "qp4fBU4AsmNM"
   },
   "outputs": [],
   "source": [
    "import scipy\n",
    "from scipy.sparse.linalg import svds, eigs"
   ]
  },
  {
   "cell_type": "code",
   "execution_count": null,
   "metadata": {
    "collapsed": true,
    "id": "4gwb5d7JsyT0"
   },
   "outputs": [],
   "source": [
    "#Method 1: using SSVD\n",
    "d = [1,2,5,10,20,50]\n",
    "U, S, VT = svds(S_mat, k=d[1])"
   ]
  },
  {
   "cell_type": "code",
   "execution_count": null,
   "metadata": {
    "colab": {
     "base_uri": "https://localhost:8080/"
    },
    "id": "ljcjYVCLsoWq",
    "outputId": "8db792dc-1d2c-4835-9ac0-a858c1693cec"
   },
   "outputs": [
    {
     "data": {
      "text/plain": [
       "(54163, 2)"
      ]
     },
     "execution_count": 71,
     "metadata": {
      "tags": []
     },
     "output_type": "execute_result"
    }
   ],
   "source": [
    "U.shape"
   ]
  },
  {
   "cell_type": "code",
   "execution_count": null,
   "metadata": {
    "colab": {
     "base_uri": "https://localhost:8080/"
    },
    "id": "Llkn2k8jst2i",
    "outputId": "88948dbc-11ee-49b2-9375-104c23df4219"
   },
   "outputs": [
    {
     "data": {
      "text/plain": [
       "(2,)"
      ]
     },
     "execution_count": 72,
     "metadata": {
      "tags": []
     },
     "output_type": "execute_result"
    }
   ],
   "source": [
    "S.shape"
   ]
  },
  {
   "cell_type": "code",
   "execution_count": null,
   "metadata": {
    "colab": {
     "base_uri": "https://localhost:8080/"
    },
    "id": "pvtJULlGsv9S",
    "outputId": "dcdbf400-99ff-49e9-a8c6-ae8cf4c1aa6b"
   },
   "outputs": [
    {
     "data": {
      "text/plain": [
       "(2, 5908)"
      ]
     },
     "execution_count": 73,
     "metadata": {
      "tags": []
     },
     "output_type": "execute_result"
    }
   ],
   "source": [
    "VT.shape"
   ]
  },
  {
   "cell_type": "code",
   "execution_count": null,
   "metadata": {
    "colab": {
     "base_uri": "https://localhost:8080/"
    },
    "id": "lXkdOiPjs9ZN",
    "outputId": "b96bc839-1a69-4acf-82f1-6b77e723137b"
   },
   "outputs": [
    {
     "data": {
      "text/plain": [
       "54163"
      ]
     },
     "execution_count": 74,
     "metadata": {
      "tags": []
     },
     "output_type": "execute_result"
    }
   ],
   "source": [
    "len(user_map)"
   ]
  },
  {
   "cell_type": "code",
   "execution_count": null,
   "metadata": {
    "colab": {
     "base_uri": "https://localhost:8080/"
    },
    "id": "hUpLDWCGs9WT",
    "outputId": "003ea080-eaba-4e06-f025-572675c1793a"
   },
   "outputs": [
    {
     "data": {
      "text/plain": [
       "5908"
      ]
     },
     "execution_count": 75,
     "metadata": {
      "tags": []
     },
     "output_type": "execute_result"
    }
   ],
   "source": [
    "len(biz_map)"
   ]
  },
  {
   "cell_type": "code",
   "execution_count": null,
   "metadata": {
    "collapsed": true,
    "id": "ALH71J_YtcK_"
   },
   "outputs": [],
   "source": [
    "#Parse to dictionary\n",
    "S_dict = {}\n",
    "for idx, row in df.iterrows():\n",
    "    S_dict[(user_map[row['user_id']], biz_map[row['business_id']])] = float(row['stars'])"
   ]
  },
  {
   "cell_type": "code",
   "execution_count": null,
   "metadata": {
    "collapsed": true,
    "id": "Fnl3-M_VvIBn"
   },
   "outputs": [],
   "source": [
    "user_dict = {}\n",
    "joke_dict = {}\n",
    "for idx, row in df.iterrows():\n",
    "    if user_map[row['user_id']] not in user_dict:\n",
    "        user_dict[user_map[row['user_id']]] = [biz_map[row['business_id']]]\n",
    "    else:\n",
    "        user_dict[user_map[row['user_id']]].append(biz_map[row['business_id']])\n",
    "        \n",
    "    if biz_map[row['business_id']] not in joke_dict:\n",
    "        joke_dict[biz_map[row['business_id']]] = [user_map[row['user_id']]]\n",
    "    else:\n",
    "        joke_dict[biz_map[row['business_id']]].append(user_map[row['user_id']])    "
   ]
  },
  {
   "cell_type": "code",
   "execution_count": null,
   "metadata": {
    "colab": {
     "base_uri": "https://localhost:8080/"
    },
    "id": "UE97CQN7Jgc7",
    "outputId": "fc3daeab-75b6-4f76-a13b-66c7ca4656d7"
   },
   "outputs": [
    {
     "name": "stdout",
     "output_type": "stream",
     "text": [
      "mse loss: 11.529570926805373\n",
      "mse loss: 10.892126292618828\n",
      "mse loss: 10.325547668402935\n",
      "mse loss: 9.813684345323278\n",
      "mse loss: 9.346431088447003\n",
      "mse loss: 8.917061205343309\n",
      "mse loss: 8.520742022652758\n",
      "mse loss: 8.153723623456587\n",
      "mse loss: 7.812914543543613\n",
      "mse loss: 7.49566859389837\n",
      "mse loss: 7.199678150463991\n",
      "mse loss: 6.922916255167428\n",
      "mse loss: 6.663598821094237\n",
      "mse loss: 6.420154428306004\n",
      "mse loss: 6.191197285807323\n",
      "mse loss: 5.9755024128323875\n",
      "mse loss: 5.771983235653532\n",
      "mse loss: 5.579671920549902\n",
      "mse loss: 5.397702549438994\n",
      "mse loss: 5.225296999517807\n",
      "mse loss: 5.061753222004862\n",
      "mse loss: 4.906435543190107\n",
      "mse loss: 4.758766611527644\n",
      "mse loss: 4.618220657176131\n",
      "mse loss: 4.484317789811399\n",
      "mse loss: 4.356619120126549\n",
      "mse loss: 4.234722541797424\n",
      "mse loss: 4.118259051179332\n",
      "mse loss: 4.006889512203441\n",
      "mse loss: 3.9003017957714916\n"
     ]
    }
   ],
   "source": [
    "# Method 3: Using SGD\n",
    "lambda_ = 0.01\n",
    "lr = 0.001\n",
    "d = 2\n",
    "U = np.random.rand(n,d)\n",
    "V = np.random.rand(m,d)\n",
    "loss = []\n",
    "for iter in range(30):\n",
    "    #fix u update v\n",
    "    for j in range(m): \n",
    "        gradvj = 0\n",
    "        for user_idx in joke_dict[j]:\n",
    "            gradvj += (U[user_idx,:].dot(V[j,:]) - S_dict[(user_idx, j)])*U[user_idx,:] \n",
    "        gradvj += lambda_ *V[j,:]\n",
    "        V[j,:] -= lr * gradvj\n",
    "    \n",
    "    \n",
    "    #fix v update u\n",
    "    for i in range(n): \n",
    "        gradui = 0\n",
    "        for joke_idx in user_dict[i]:\n",
    "            gradui += (U[i,:].dot(V[joke_idx,:]) - S_dict[(i, joke_idx)])*V[joke_idx,:] \n",
    "        gradui += lambda_ *U[i,:]\n",
    "        U[i,:] -= lr * gradui\n",
    "    \n",
    "    loss.append(mse(n,m,U,V,S_mat, S_dict,average = False))\n",
    "    print(\"mse loss:\", loss[iter])"
   ]
  },
  {
   "cell_type": "code",
   "execution_count": null,
   "metadata": {
    "colab": {
     "base_uri": "https://localhost:8080/",
     "height": 312
    },
    "id": "z292uBNR4jM7",
    "outputId": "e9205210-6d7b-4bfe-dda2-c44d23d0df81"
   },
   "outputs": [
    {
     "data": {
      "text/plain": [
       "Text(0.5, 0, 'Epoch')"
      ]
     },
     "execution_count": 109,
     "metadata": {
      "tags": []
     },
     "output_type": "execute_result"
    },
    {
     "data": {
      "image/png": "[encoded data removed]",
      "text/plain": [
       "<Figure size 432x288 with 1 Axes>"
      ]
     },
     "metadata": {
      "needs_background": "light",
      "tags": []
     },
     "output_type": "display_data"
    }
   ],
   "source": [
    "plt.plot(loss)\n",
    "plt.title(\"Training MSE loss of matrix factorization using SGD\")\n",
    "plt.ylabel(\"MSE\")\n",
    "plt.xlabel(\"Epoch\")"
   ]
  },
  {
   "cell_type": "code",
   "execution_count": null,
   "metadata": {
    "colab": {
     "base_uri": "https://localhost:8080/",
     "height": 85
    },
    "id": "J1Ou0IwgKRH3",
    "outputId": "ba185291-f5b0-45c7-e608-3307fe7d32e4"
   },
   "outputs": [
    {
     "data": {
      "text/plain": [
       "array([ 8.79, -7.52, -8.5 ,  4.17, -4.76,  8.45, -7.52, -7.43, -9.81,\n",
       "       -9.37, -9.81, -8.5 ,  7.82,  7.82,  5.05,  4.95, -8.11, -9.03,\n",
       "       -9.08, -6.26,  3.79,  3.93, -8.69,  3.2 ,  0.92,  2.82, -8.64,\n",
       "        8.59,  3.59, -6.84, -9.03, -9.42,  2.82])"
      ]
     },
     "execution_count": 101,
     "metadata": {
      "tags": []
     },
     "output_type": "execute_result"
    }
   ],
   "source": [
    "S_mat.getrow(0).toarray()[S_mat.getrow(0).toarray().nonzero()]"
   ]
  },
  {
   "cell_type": "code",
   "execution_count": null,
   "metadata": {
    "colab": {
     "base_uri": "https://localhost:8080/",
     "height": 34
    },
    "id": "ibf9t_3XmVB1",
    "outputId": "a74eba60-aa66-4c6b-d8cb-72505f8cdbcc"
   },
   "outputs": [
    {
     "data": {
      "text/plain": [
       "True"
      ]
     },
     "execution_count": 17,
     "metadata": {
      "tags": []
     },
     "output_type": "execute_result"
    }
   ],
   "source": [
    "(1,2) in S_dict"
   ]
  },
  {
   "cell_type": "code",
   "execution_count": null,
   "metadata": {
    "colab": {
     "base_uri": "https://localhost:8080/",
     "height": 34
    },
    "id": "ZsKqyeKCvy9T",
    "outputId": "2198324a-6f09-48d6-b66e-8e6b81e1a987"
   },
   "outputs": [
    {
     "data": {
      "text/plain": [
       "904699"
      ]
     },
     "execution_count": 18,
     "metadata": {
      "tags": []
     },
     "output_type": "execute_result"
    }
   ],
   "source": [
    "len(S_dict)"
   ]
  },
  {
   "cell_type": "code",
   "execution_count": null,
   "metadata": {
    "colab": {
     "base_uri": "https://localhost:8080/"
    },
    "id": "hIx8al44s-_w",
    "outputId": "ed387158-f39c-4226-c6b4-9cf0c6fa7b4f"
   },
   "outputs": [
    {
     "name": "stdout",
     "output_type": "stream",
     "text": [
      "8654\n",
      "3461\n"
     ]
    }
   ],
   "source": [
    "print(n)\n",
    "print(m)"
   ]
  },
  {
   "cell_type": "code",
   "execution_count": null,
   "metadata": {
    "collapsed": true,
    "id": "faxE5bTSxoZB"
   },
   "outputs": [],
   "source": [
    "# Method 1: Taking average\n",
    "U = np.ones(n)\n",
    "#Predict V\n",
    "V = np.zeros(m)\n",
    "for j in range(m):\n",
    "    if S_mat.getcol(j).nnz == 0:\n",
    "        V[j] = 0\n",
    "    else:\n",
    "        V[j] = S_mat.getcol(j).sum()/S_mat.getcol(j).nnz\n"
   ]
  },
  {
   "cell_type": "code",
   "execution_count": null,
   "metadata": {
    "colab": {
     "base_uri": "https://localhost:8080/"
    },
    "id": "GcntqL11tH33",
    "outputId": "891a4250-8700-402a-809e-2aa730341cf5"
   },
   "outputs": [
    {
     "name": "stdout",
     "output_type": "stream",
     "text": [
      "mse train loss: 0.8748370027801576\n",
      "mae train loss: 0.6563496670800273\n"
     ]
    }
   ],
   "source": [
    "print(\"mse train loss:\", mse(n,m,U,V,S_mat, S_dict, average = 1))\n",
    "print(\"mae train loss:\", mae(n,m,U,V,S_mat, S_dict, average = 1))"
   ]
  },
  {
   "cell_type": "code",
   "execution_count": null,
   "metadata": {
    "colab": {
     "base_uri": "https://localhost:8080/",
     "height": 85
    },
    "id": "6-wL3ML3AJIn",
    "outputId": "f6d82051-7234-44cb-bb03-8b159143c26f"
   },
   "outputs": [
    {
     "name": "stdout",
     "output_type": "stream",
     "text": [
      "mse train loss: 24.870775408352657\n",
      "mae train loss: 4.114385496106998\n",
      "mse test loss: 24.867462528492833\n",
      "mae test loss: 4.113832606397694\n"
     ]
    }
   ],
   "source": [
    "print(\"mse train loss:\", mse(n,m,U,V,S_mat, S_dict, average = 1))\n",
    "print(\"mae train loss:\", mae(n,m,U,V,S_mat, S_dict, average = 1))\n",
    "\n",
    "# print(\"mse test loss:\", mse(n,m,U,V,S_mat_test, S_dict_test, average = 1))\n",
    "# print(\"mae test loss:\", mae(n,m,U,V,S_mat_test, S_dict_test, average = 1))"
   ]
  },
  {
   "cell_type": "code",
   "execution_count": null,
   "metadata": {
    "colab": {
     "base_uri": "https://localhost:8080/",
     "height": 34
    },
    "id": "SQg4KUKTAOet",
    "outputId": "a7c1df85-2585-4f59-d617-29734b8566c5"
   },
   "outputs": [
    {
     "name": "stdout",
     "output_type": "stream",
     "text": [
      "MAE is:  None\n"
     ]
    }
   ],
   "source": [
    "print(\"MAE is: \", mae(n,m,U,V,S_mat, S_dict, average = True))"
   ]
  },
  {
   "cell_type": "code",
   "execution_count": null,
   "metadata": {
    "colab": {
     "base_uri": "https://localhost:8080/"
    },
    "id": "Z_Ac81cYGHJI",
    "outputId": "f3e0dd26-fb45-4101-947e-5e984913887d"
   },
   "outputs": [
    {
     "name": "stdout",
     "output_type": "stream",
     "text": [
      "SVD 2 components\n",
      "mse train loss: [15.60360436 15.57817905]\n",
      "mae train loss: [3.69758335 3.6956044 ]\n",
      "SVD 5 components\n",
      "mse train loss: [15.60469278 15.60399209 15.59235419 15.60360436 15.57817905]\n",
      "mae train loss: [3.70329865 3.69957124 3.69947579 3.69758335 3.6956044 ]\n"
     ]
    }
   ],
   "source": [
    "# Method 2: using svd\n",
    "d = [2,5]\n",
    "for e in d:\n",
    "    U, S, VT = svds(S_mat, k=e)\n",
    "    print(\"SVD {} components\".format(e))\n",
    "    U = U*S\n",
    "    print(\"mse train loss:\", mse(n,m,U,VT.T,S_mat, S_dict, average = 1))\n",
    "    print(\"mae train loss:\", mae(n,m,U,VT.T,S_mat, S_dict, average = 1))\n"
   ]
  },
  {
   "cell_type": "code",
   "execution_count": null,
   "metadata": {
    "collapsed": true,
    "id": "jEMO74381gZk"
   },
   "outputs": [],
   "source": [
    "def get_recommendation(query, top=5):\n",
    "    if query in user_map:\n",
    "        print(\"Found user: \", query)\n",
    "        matrix_row = U.dot(V.T)[user_map[query],:]\n",
    "        sorted_indices = np.argsort(-1*matrix_row)[:top]\n",
    "        print(\"Top {} Recommendations: \".format(top))\n",
    "        for i in sorted_indices:\n",
    "            print(\"Business: \", inv_biz_map[i])    "
   ]
  },
  {
   "cell_type": "code",
   "execution_count": null,
   "metadata": {
    "colab": {
     "base_uri": "https://localhost:8080/"
    },
    "id": "9IPWeURS3mvz",
    "outputId": "615a8707-80c8-459a-a914-10ebdbe43ae2"
   },
   "outputs": [
    {
     "name": "stdout",
     "output_type": "stream",
     "text": [
      "Found user:  HJECayULRM-6xh2GCCvLiA\n",
      "Top 5 Recommendations: \n",
      "Business:  eaNenRk_liZBERFFLCXqqQ\n",
      "Business:  1aVbXH_4uQCTQU7HfGmyow\n",
      "Business:  Cd2ERofxOeCbCi-0yDs0aw\n",
      "Business:  IhNASEZ3XnBHmuuVnWdIwA\n",
      "Business:  S4qUsi44l5D9BbUCkhwQEA\n"
     ]
    }
   ],
   "source": [
    "get_recommendation(query)"
   ]
  },
  {
   "cell_type": "code",
   "execution_count": null,
   "metadata": {
    "collapsed": true,
    "id": "coDKdU7F20jj"
   },
   "outputs": [],
   "source": []
  },
  {
   "cell_type": "code",
   "execution_count": null,
   "metadata": {
    "collapsed": true,
    "id": "Ke2o5J_E4hor"
   },
   "outputs": [],
   "source": [
    "\n"
   ]
  }
 ],
 "metadata": {
  "colab": {
   "collapsed_sections": [],
   "name": "yelp_recommendation.ipynb",
   "provenance": []
  },
  "kernelspec": {
   "display_name": "Python 3",
   "language": "python",
   "name": "python3"
  },
  "language_info": {
   "codemirror_mode": {
    "name": "ipython",
    "version": 3
   },
   "file_extension": ".py",
   "mimetype": "text/x-python",
   "name": "python",
   "nbconvert_exporter": "python",
   "pygments_lexer": "ipython3",
   "version": "3.6.3"
  }
 },
 "nbformat": 4,
 "nbformat_minor": 1
}
